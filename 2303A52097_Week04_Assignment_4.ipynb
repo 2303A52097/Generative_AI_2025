{
  "nbformat": 4,
  "nbformat_minor": 0,
  "metadata": {
    "colab": {
      "provenance": [],
      "authorship_tag": "ABX9TyOGQYzcXNnZIgaTmajK43E+",
      "include_colab_link": true
    },
    "kernelspec": {
      "name": "python3",
      "display_name": "Python 3"
    },
    "language_info": {
      "name": "python"
    }
  },
  "cells": [
    {
      "cell_type": "markdown",
      "metadata": {
        "id": "view-in-github",
        "colab_type": "text"
      },
      "source": [
        "<a href=\"https://colab.research.google.com/github/2303A52097/Generative_AI_2025/blob/main/2303A5a52097_Week_4_Assignment_4.ipynb\" target=\"_parent\"><img src=\"https://colab.research.google.com/assets/colab-badge.svg\" alt=\"Open In Colab\"/></a>"
      ]
    },
    {
      "cell_type": "markdown",
      "source": [
        "##Question 1"
      ],
      "metadata": {
        "id": "eZMBaN3Xv9Ej"
      }
    },
    {
      "cell_type": "code",
      "source": [
        "import numpy as np\n",
        "\n",
        "train_X = np.array([\n",
        "    [0.1, 0.2, 0.3],\n",
        "    [0.2, 0.3, 0.4],\n",
        "    [0.3, 0.4, 0.5],\n",
        "    [0.5, 0.6, 0.7],\n",
        "    [0.1, 0.3, 0.5],\n",
        "    [0.2, 0.4, 0.6],\n",
        "    [0.3, 0.5, 0.7],\n",
        "    [0.4, 0.6, 0.8],\n",
        "    [0.5, 0.7, 0.1]\n",
        "])\n",
        "train_y = np.array([0.14, 0.20, 0.26, 0.38, 0.22, 0.28, 0.34, 0.40, 0.22])\n",
        "\n",
        "test_X = np.array([\n",
        "    [0.6, 0.7, 0.8],\n",
        "    [0.7, 0.8, 0.9]\n",
        "])\n",
        "test_y = np.array([0.44, 0.50])\n",
        "\n",
        "weights = np.random.rand(3)\n",
        "bias = np.random.rand()\n",
        "\n",
        "learning_rate = 0.01\n",
        "epochs = 1000\n",
        "\n",
        "for epoch in range(epochs):\n",
        "    predictions = np.dot(train_X, weights) + bias\n",
        "    errors = predictions - train_y\n",
        "\n",
        "    weight_gradients = (2 / len(train_X)) * np.dot(train_X.T, errors)\n",
        "    bias_gradient = (2 / len(train_X)) * np.sum(errors)\n",
        "\n",
        "    weights -= learning_rate * weight_gradients\n",
        "    bias -= learning_rate * bias_gradient\n",
        "\n",
        "    mse = np.mean(errors ** 2)\n",
        "    if epoch % 100 == 0:\n",
        "        print(f\"Epoch {epoch}, MSE: {mse:.5f}\")\n",
        "\n",
        "test_predictions = np.dot(test_X, weights) + bias\n",
        "test_mse = np.mean((test_predictions - test_y) ** 2)\n",
        "print(f\"Final Training MSE: {mse:.5f}\")\n",
        "print(f\"Test MSE: {test_mse:.5f}\")\n",
        "\n",
        "x1, x2, x3 = map(float, input(\"Enter x1, x2, x3: \").split())\n",
        "user_input = np.array([x1, x2, x3])\n",
        "user_prediction = np.dot(user_input, weights) + bias\n",
        "print(f\"Predicted output: {user_prediction:.5f}\")"
      ],
      "metadata": {
        "colab": {
          "base_uri": "https://localhost:8080/"
        },
        "id": "jOhY8UTOs5SX",
        "outputId": "6d514611-2567-407b-d5d1-8909395f96fd"
      },
      "execution_count": 6,
      "outputs": [
        {
          "output_type": "stream",
          "name": "stdout",
          "text": [
            "Epoch 0, MSE: 0.12730\n",
            "Epoch 100, MSE: 0.00755\n",
            "Epoch 200, MSE: 0.00636\n",
            "Epoch 300, MSE: 0.00551\n",
            "Epoch 400, MSE: 0.00479\n",
            "Epoch 500, MSE: 0.00416\n",
            "Epoch 600, MSE: 0.00362\n",
            "Epoch 700, MSE: 0.00316\n",
            "Epoch 800, MSE: 0.00276\n",
            "Epoch 900, MSE: 0.00242\n",
            "Final Training MSE: 0.00213\n",
            "Test MSE: 0.00678\n",
            "Enter x1, x2, x3: 0.7 0.8 0.9\n",
            "Predicted output: 0.59128\n"
          ]
        }
      ]
    },
    {
      "cell_type": "markdown",
      "source": [
        "##Question 2"
      ],
      "metadata": {
        "id": "GkEvM5_ixVAy"
      }
    },
    {
      "cell_type": "code",
      "source": [
        "\n",
        "import numpy as np\n",
        "\n",
        "def sigmoid(x):\n",
        "    return 1 / (1 + np.exp(-x))\n",
        "\n",
        "def sigmoid_derivative(x):\n",
        "    return x * (1 - x)\n",
        "\n",
        "train_X = np.array([\n",
        "    [0.1, 0.2, 0.3],\n",
        "    [0.2, 0.3, 0.4],\n",
        "    [0.3, 0.4, 0.5],\n",
        "    [0.5, 0.6, 0.7],\n",
        "    [0.1, 0.3, 0.5],\n",
        "    [0.2, 0.4, 0.6],\n",
        "    [0.3, 0.5, 0.7],\n",
        "    [0.4, 0.6, 0.8],\n",
        "    [0.5, 0.7, 0.1]\n",
        "])\n",
        "train_y = np.array([0.5349, 0.5498, 0.5646, 0.5939, 0.5548, 0.5695, 0.5842, 0.5987, 0.5548])\n",
        "\n",
        "test_X = np.array([\n",
        "    [0.6, 0.7, 0.8],\n",
        "    [0.7, 0.8, 0.9]\n",
        "])\n",
        "test_y = np.array([0.6083, 0.6225])\n",
        "\n",
        "weights = np.random.rand(3)\n",
        "bias = np.random.rand()\n",
        "\n",
        "learning_rate = 0.01\n",
        "epochs = 1000\n",
        "\n",
        "for epoch in range(epochs):\n",
        "    linear_output = np.dot(train_X, weights) + bias\n",
        "    predictions = sigmoid(linear_output)\n",
        "    errors = predictions - train_y\n",
        "\n",
        "    d_predictions = errors * sigmoid_derivative(predictions)\n",
        "    weight_gradients = (2 / len(train_X)) * np.dot(train_X.T, d_predictions)\n",
        "    bias_gradient = (2 / len(train_X)) * np.sum(d_predictions)\n",
        "\n",
        "    weights -= learning_rate * weight_gradients\n",
        "    bias -= learning_rate * bias_gradient\n",
        "\n",
        "    mse = np.mean(errors ** 2)\n",
        "    if epoch % 100 == 0:\n",
        "        print(f\"Epoch {epoch}, MSE: {mse:.5f}\")\n",
        "\n",
        "test_predictions = sigmoid(np.dot(test_X, weights) + bias)\n",
        "test_mse = np.mean((test_predictions - test_y) ** 2)\n",
        "print(f\"Final Training MSE: {mse:.5f}\")\n",
        "print(f\"Test MSE: {test_mse:.5f}\")\n",
        "\n",
        "x1, x2, x3 = map(float, input(\"Enter x1, x2, x3: \").split())\n",
        "user_input = np.array([x1, x2, x3])\n",
        "user_prediction = sigmoid(np.dot(user_input, weights) + bias)\n",
        "print(f\"Predicted output: {user_prediction:.5f}\")"
      ],
      "metadata": {
        "colab": {
          "base_uri": "https://localhost:8080/"
        },
        "id": "XXM4sKohxTUP",
        "outputId": "03be4a89-4e28-4b7f-fd21-c19c266517e2"
      },
      "execution_count": 7,
      "outputs": [
        {
          "output_type": "stream",
          "name": "stdout",
          "text": [
            "Epoch 0, MSE: 0.01682\n",
            "Epoch 100, MSE: 0.01276\n",
            "Epoch 200, MSE: 0.00953\n",
            "Epoch 300, MSE: 0.00702\n",
            "Epoch 400, MSE: 0.00512\n",
            "Epoch 500, MSE: 0.00371\n",
            "Epoch 600, MSE: 0.00267\n",
            "Epoch 700, MSE: 0.00192\n",
            "Epoch 800, MSE: 0.00138\n",
            "Epoch 900, MSE: 0.00099\n",
            "Final Training MSE: 0.00072\n",
            "Test MSE: 0.00198\n",
            "Enter x1, x2, x3: 0.6 0.7 0.8\n",
            "Predicted output: 0.64994\n"
          ]
        }
      ]
    }
  ]
}
